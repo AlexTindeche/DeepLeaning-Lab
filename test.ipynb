{
 "cells": [
  {
   "cell_type": "code",
   "execution_count": 5,
   "id": "686e6a02",
   "metadata": {},
   "outputs": [
    {
     "name": "stdout",
     "output_type": "stream",
     "text": [
      "Curriculum NEG_RATIO: 0.2375\n"
     ]
    }
   ],
   "source": [
    "def get_curriculum_neg_ratio():\n",
    "    # Linearly increase NEG_RATIO from 0.05 to self.NEG_RATIO over 20 epochs\n",
    "    max_epochs = 20\n",
    "    start_ratio = 0.05\n",
    "    curr_ep = 5\n",
    "    NEG_RATIO = 0.8  # This should be defined in the class or passed as an argument\n",
    "    if curr_ep < max_epochs:\n",
    "        ratio = start_ratio + (NEG_RATIO - start_ratio) * (curr_ep / max_epochs)\n",
    "    else:\n",
    "        ratio = NEG_RATIO\n",
    "    return ratio\n",
    "\n",
    "print(\"Curriculum NEG_RATIO:\", get_curriculum_neg_ratio())"
   ]
  }
 ],
 "metadata": {
  "kernelspec": {
   "display_name": "emp",
   "language": "python",
   "name": "python3"
  },
  "language_info": {
   "codemirror_mode": {
    "name": "ipython",
    "version": 3
   },
   "file_extension": ".py",
   "mimetype": "text/x-python",
   "name": "python",
   "nbconvert_exporter": "python",
   "pygments_lexer": "ipython3",
   "version": "3.9.23"
  }
 },
 "nbformat": 4,
 "nbformat_minor": 5
}
